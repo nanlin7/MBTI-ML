{
 "cells": [
  {
   "cell_type": "code",
   "execution_count": 1,
   "metadata": {},
   "outputs": [],
   "source": [
    "import pandas as pd\n",
    "import re\n",
    "import matplotlib.pyplot as plt\n",
    "import string\n",
    "import seaborn as sns\n",
    "import string"
   ]
  },
  {
   "cell_type": "code",
   "execution_count": 18,
   "metadata": {},
   "outputs": [],
   "source": [
    "# pip install nltk, textblob\n",
    "import nltk\n",
    "from nltk.corpus import stopwords\n",
    "from textblob import TextBlob"
   ]
  },
  {
   "cell_type": "markdown",
   "metadata": {},
   "source": [
    "- extroversion vs. introversion \n",
    "- intuition vs. sensing\n",
    "- thinking vs. feeling\n",
    "- judging vs. perceiving"
   ]
  },
  {
   "cell_type": "code",
   "execution_count": 3,
   "metadata": {},
   "outputs": [],
   "source": [
    "# Load Data\n",
    "mbti = pd.read_csv('data/mbti_1.csv') "
   ]
  },
  {
   "cell_type": "code",
   "execution_count": 4,
   "metadata": {},
   "outputs": [
    {
     "data": {
      "text/html": [
       "<div>\n",
       "<style scoped>\n",
       "    .dataframe tbody tr th:only-of-type {\n",
       "        vertical-align: middle;\n",
       "    }\n",
       "\n",
       "    .dataframe tbody tr th {\n",
       "        vertical-align: top;\n",
       "    }\n",
       "\n",
       "    .dataframe thead th {\n",
       "        text-align: right;\n",
       "    }\n",
       "</style>\n",
       "<table border=\"1\" class=\"dataframe\">\n",
       "  <thead>\n",
       "    <tr style=\"text-align: right;\">\n",
       "      <th></th>\n",
       "      <th>type</th>\n",
       "      <th>posts</th>\n",
       "    </tr>\n",
       "  </thead>\n",
       "  <tbody>\n",
       "    <tr>\n",
       "      <th>0</th>\n",
       "      <td>INFJ</td>\n",
       "      <td>'http://www.youtube.com/watch?v=qsXHcwe3krw|||...</td>\n",
       "    </tr>\n",
       "    <tr>\n",
       "      <th>1</th>\n",
       "      <td>ENTP</td>\n",
       "      <td>'I'm finding the lack of me in these posts ver...</td>\n",
       "    </tr>\n",
       "    <tr>\n",
       "      <th>2</th>\n",
       "      <td>INTP</td>\n",
       "      <td>'Good one  _____   https://www.youtube.com/wat...</td>\n",
       "    </tr>\n",
       "    <tr>\n",
       "      <th>3</th>\n",
       "      <td>INTJ</td>\n",
       "      <td>'Dear INTP,   I enjoyed our conversation the o...</td>\n",
       "    </tr>\n",
       "    <tr>\n",
       "      <th>4</th>\n",
       "      <td>ENTJ</td>\n",
       "      <td>'You're fired.|||That's another silly misconce...</td>\n",
       "    </tr>\n",
       "  </tbody>\n",
       "</table>\n",
       "</div>"
      ],
      "text/plain": [
       "   type                                              posts\n",
       "0  INFJ  'http://www.youtube.com/watch?v=qsXHcwe3krw|||...\n",
       "1  ENTP  'I'm finding the lack of me in these posts ver...\n",
       "2  INTP  'Good one  _____   https://www.youtube.com/wat...\n",
       "3  INTJ  'Dear INTP,   I enjoyed our conversation the o...\n",
       "4  ENTJ  'You're fired.|||That's another silly misconce..."
      ]
     },
     "execution_count": 4,
     "metadata": {},
     "output_type": "execute_result"
    }
   ],
   "source": [
    "mbti.head()"
   ]
  },
  {
   "cell_type": "code",
   "execution_count": null,
   "metadata": {},
   "outputs": [],
   "source": [
    "## General Cleaning copied from Ben's notebook"
   ]
  },
  {
   "cell_type": "code",
   "execution_count": 5,
   "metadata": {},
   "outputs": [],
   "source": [
    "# remove ||| \n",
    "user_posts = [re.sub(r'\\|\\|\\|',' ',posts) for posts in mbti['posts']]\n",
    "# Remove all links \n",
    "linkless_posts = [re.sub(r'http[\\S]* ','',posts) for posts in user_posts]\n",
    "# Update mbti \n",
    "mbti['posts'] = linkless_posts"
   ]
  },
  {
   "cell_type": "code",
   "execution_count": 6,
   "metadata": {},
   "outputs": [
    {
     "data": {
      "text/plain": [
       "INFP    1832\n",
       "INFJ    1470\n",
       "INTP    1304\n",
       "INTJ    1091\n",
       "ENTP     685\n",
       "ENFP     675\n",
       "ISTP     337\n",
       "ISFP     271\n",
       "ENTJ     231\n",
       "ISTJ     205\n",
       "ENFJ     190\n",
       "ISFJ     166\n",
       "ESTP      89\n",
       "ESFP      48\n",
       "ESFJ      42\n",
       "ESTJ      39\n",
       "Name: type, dtype: int64"
      ]
     },
     "execution_count": 6,
     "metadata": {},
     "output_type": "execute_result"
    }
   ],
   "source": [
    "# glance at the distribution of personality types\n",
    "mbti['type'].value_counts()  #most common personality: INFP"
   ]
  },
  {
   "cell_type": "code",
   "execution_count": 7,
   "metadata": {},
   "outputs": [],
   "source": [
    "# analyze types by sub-category may be easier\n",
    "mbti['EorI']= mbti['type'].apply(lambda x:x[0])\n",
    "mbti['NorS']= mbti['type'].apply(lambda x:x[1])\n",
    "mbti['TorF']= mbti['type'].apply(lambda x:x[2])\n",
    "mbti['JorP']= mbti['type'].apply(lambda x:x[3])"
   ]
  },
  {
   "cell_type": "code",
   "execution_count": 10,
   "metadata": {},
   "outputs": [
    {
     "data": {
      "text/plain": [
       "<matplotlib.legend.Legend at 0x1a1fc5bda0>"
      ]
     },
     "execution_count": 10,
     "metadata": {},
     "output_type": "execute_result"
    },
    {
     "data": {
      "image/png": "[encoded data removed]",
      "text/plain": [
       "<Figure size 432x288 with 1 Axes>"
      ]
     },
     "metadata": {
      "needs_background": "light"
     },
     "output_type": "display_data"
    }
   ],
   "source": [
    "ax = sns.countplot(x='variable',hue='value',data=pd.melt(mbti.iloc[:,2:]),palette=\"Set2\")\n",
    "ax.set_xticklabels([\"ntroverted vs.extroverted\", \"intuition vs. sensing\", \n",
    "                    \"feeling vs.thinking \", \"judging vs. perceiving\", \n",
    "                    ], rotation=10, fontsize=11)\n",
    "ax.legend(loc='center left', bbox_to_anchor=(1, 0.5))\n"
   ]
  },
  {
   "cell_type": "markdown",
   "metadata": {},
   "source": [
    "#### Notes:\n",
    "imbalanced class: I vs E, N vs S. Some advanced techniques like resampling methods may be needed later to handle imbalanced classes"
   ]
  },
  {
   "cell_type": "markdown",
   "metadata": {},
   "source": [
    "## Workflow\n",
    "\n",
    "- Delect delete punctuations \n",
    "\n",
    "### Basic feature extraction using text data\n",
    "- Number of words\n",
    "- Number of characters\n",
    "- Number of stopwords\n",
    "- Number of special characters\n",
    "- Number of numerics\n",
    "- Number of uppercase words\n",
    "\n",
    "More:\n",
    "- Average Word Length, will do after tokenization\n",
    "\n",
    "### Basic Text Pre-processing of text data\n",
    "- Lower casing\n",
    "- Punctuation removal\n",
    "- Stopwords removal\n",
    "- Frequent words removal\n",
    "- Rare words removal\n",
    "- Spelling correction\n",
    "- Tokenization\n",
    "- Stemming\n",
    "\n",
    "### Maybe More Text Processing\n",
    "\n",
    "- N-grams\n",
    "- Term Frequency\n",
    "- Inverse Document Frequency\n",
    "- Term Frequency-Inverse Document Frequency (TF-IDF)\n",
    "- Bag of Words\n",
    "- Sentiment Analysis\n",
    "- Word Embedding\n",
    "\n"
   ]
  },
  {
   "cell_type": "markdown",
   "metadata": {},
   "source": [
    "#### 1. Number of Words"
   ]
  },
  {
   "cell_type": "code",
   "execution_count": 14,
   "metadata": {},
   "outputs": [],
   "source": [
    "# before pre-process, extract some features \n",
    "# include all numbers,stop words, emojis,\n",
    "\n",
    "# delete punctuations\n",
    "def del_punct(text):\n",
    "    regex = re.compile('[' + re.escape(string.punctuation) + '\\\\r\\\\t\\\\n]')\n",
    "    return regex.sub(\"\", text) \n",
    "mbti['post_np'] = mbti['posts'].apply(lambda x: del_punct(x))\n",
    "\n",
    "# number of words after deleting all punctuatuins\n",
    "mbti['word_count'] = mbti['posts'].apply(lambda x: len(x.split(\" \")))"
   ]
  },
  {
   "cell_type": "code",
   "execution_count": 15,
   "metadata": {},
   "outputs": [
    {
     "data": {
      "text/html": [
       "<div>\n",
       "<style scoped>\n",
       "    .dataframe tbody tr th:only-of-type {\n",
       "        vertical-align: middle;\n",
       "    }\n",
       "\n",
       "    .dataframe tbody tr th {\n",
       "        vertical-align: top;\n",
       "    }\n",
       "\n",
       "    .dataframe thead th {\n",
       "        text-align: right;\n",
       "    }\n",
       "</style>\n",
       "<table border=\"1\" class=\"dataframe\">\n",
       "  <thead>\n",
       "    <tr style=\"text-align: right;\">\n",
       "      <th></th>\n",
       "      <th>type</th>\n",
       "      <th>posts</th>\n",
       "      <th>EorI</th>\n",
       "      <th>NorS</th>\n",
       "      <th>TorF</th>\n",
       "      <th>JorP</th>\n",
       "      <th>post_np</th>\n",
       "      <th>word_count</th>\n",
       "      <th>char_count</th>\n",
       "    </tr>\n",
       "  </thead>\n",
       "  <tbody>\n",
       "    <tr>\n",
       "      <th>0</th>\n",
       "      <td>INFJ</td>\n",
       "      <td>'enfp and intj moments   sportscenter not top ...</td>\n",
       "      <td>I</td>\n",
       "      <td>N</td>\n",
       "      <td>F</td>\n",
       "      <td>J</td>\n",
       "      <td>enfp and intj moments   sportscenter not top t...</td>\n",
       "      <td>603</td>\n",
       "      <td>3160</td>\n",
       "    </tr>\n",
       "    <tr>\n",
       "      <th>1</th>\n",
       "      <td>ENTP</td>\n",
       "      <td>'I'm finding the lack of me in these posts ver...</td>\n",
       "      <td>E</td>\n",
       "      <td>N</td>\n",
       "      <td>T</td>\n",
       "      <td>P</td>\n",
       "      <td>Im finding the lack of me in these posts very ...</td>\n",
       "      <td>1234</td>\n",
       "      <td>6063</td>\n",
       "    </tr>\n",
       "    <tr>\n",
       "      <th>2</th>\n",
       "      <td>INTP</td>\n",
       "      <td>'Good one  _____   Of course, to which I say I...</td>\n",
       "      <td>I</td>\n",
       "      <td>N</td>\n",
       "      <td>T</td>\n",
       "      <td>P</td>\n",
       "      <td>Good one     Of course to which I say I know t...</td>\n",
       "      <td>914</td>\n",
       "      <td>4769</td>\n",
       "    </tr>\n",
       "    <tr>\n",
       "      <th>3</th>\n",
       "      <td>INTJ</td>\n",
       "      <td>'Dear INTP,   I enjoyed our conversation the o...</td>\n",
       "      <td>I</td>\n",
       "      <td>N</td>\n",
       "      <td>T</td>\n",
       "      <td>J</td>\n",
       "      <td>Dear INTP   I enjoyed our conversation the oth...</td>\n",
       "      <td>1148</td>\n",
       "      <td>5791</td>\n",
       "    </tr>\n",
       "    <tr>\n",
       "      <th>4</th>\n",
       "      <td>ENTJ</td>\n",
       "      <td>'You're fired. That's another silly misconcept...</td>\n",
       "      <td>E</td>\n",
       "      <td>N</td>\n",
       "      <td>T</td>\n",
       "      <td>J</td>\n",
       "      <td>Youre fired Thats another silly misconception ...</td>\n",
       "      <td>1030</td>\n",
       "      <td>5394</td>\n",
       "    </tr>\n",
       "  </tbody>\n",
       "</table>\n",
       "</div>"
      ],
      "text/plain": [
       "   type                                              posts EorI NorS TorF  \\\n",
       "0  INFJ  'enfp and intj moments   sportscenter not top ...    I    N    F   \n",
       "1  ENTP  'I'm finding the lack of me in these posts ver...    E    N    T   \n",
       "2  INTP  'Good one  _____   Of course, to which I say I...    I    N    T   \n",
       "3  INTJ  'Dear INTP,   I enjoyed our conversation the o...    I    N    T   \n",
       "4  ENTJ  'You're fired. That's another silly misconcept...    E    N    T   \n",
       "\n",
       "  JorP                                            post_np  word_count  \\\n",
       "0    J  enfp and intj moments   sportscenter not top t...         603   \n",
       "1    P  Im finding the lack of me in these posts very ...        1234   \n",
       "2    P  Good one     Of course to which I say I know t...         914   \n",
       "3    J  Dear INTP   I enjoyed our conversation the oth...        1148   \n",
       "4    J  Youre fired Thats another silly misconception ...        1030   \n",
       "\n",
       "   char_count  \n",
       "0        3160  \n",
       "1        6063  \n",
       "2        4769  \n",
       "3        5791  \n",
       "4        5394  "
      ]
     },
     "execution_count": 15,
     "metadata": {},
     "output_type": "execute_result"
    }
   ],
   "source": [
    "mbti.head()"
   ]
  },
  {
   "cell_type": "markdown",
   "metadata": {},
   "source": [
    "#### 2. Number of \"Character\""
   ]
  },
  {
   "cell_type": "code",
   "execution_count": 16,
   "metadata": {},
   "outputs": [],
   "source": [
    "mbti['char_count'] = mbti['post_np'].str.len()  # this also includes numbers,stop words, punctuations, emojis,"
   ]
  },
  {
   "cell_type": "markdown",
   "metadata": {},
   "source": [
    "#### 3. Number of stopwords"
   ]
  },
  {
   "cell_type": "code",
   "execution_count": 19,
   "metadata": {},
   "outputs": [],
   "source": [
    "# nltk.download('stopwords')\n",
    "stop = stopwords.words('english')\n",
    "# used posts here instead of non-punct posts \n",
    "mbti['stopwords'] = mbti['post_np'].apply(lambda x: len([x for x in x.split() if x in stop]))"
   ]
  },
  {
   "cell_type": "markdown",
   "metadata": {},
   "source": [
    "#### 4. Number of special characters"
   ]
  },
  {
   "cell_type": "code",
   "execution_count": 20,
   "metadata": {},
   "outputs": [],
   "source": [
    "# the number of emoji: collect special chars that are commonly used for emoji:)(\n"
   ]
  },
  {
   "cell_type": "markdown",
   "metadata": {},
   "source": [
    "#### 5. Number of numerics"
   ]
  },
  {
   "cell_type": "code",
   "execution_count": 21,
   "metadata": {},
   "outputs": [],
   "source": [
    "mbti['numerics'] = mbti['post_np'].apply(lambda x: len([x for x in x.split() if x.isdigit()]))"
   ]
  },
  {
   "cell_type": "markdown",
   "metadata": {},
   "source": [
    "#### 6. Number of Uppercase words"
   ]
  },
  {
   "cell_type": "code",
   "execution_count": 22,
   "metadata": {},
   "outputs": [
    {
     "data": {
      "text/html": [
       "<div>\n",
       "<style scoped>\n",
       "    .dataframe tbody tr th:only-of-type {\n",
       "        vertical-align: middle;\n",
       "    }\n",
       "\n",
       "    .dataframe tbody tr th {\n",
       "        vertical-align: top;\n",
       "    }\n",
       "\n",
       "    .dataframe thead th {\n",
       "        text-align: right;\n",
       "    }\n",
       "</style>\n",
       "<table border=\"1\" class=\"dataframe\">\n",
       "  <thead>\n",
       "    <tr style=\"text-align: right;\">\n",
       "      <th></th>\n",
       "      <th>type</th>\n",
       "      <th>posts</th>\n",
       "      <th>EorI</th>\n",
       "      <th>NorS</th>\n",
       "      <th>TorF</th>\n",
       "      <th>JorP</th>\n",
       "      <th>post_np</th>\n",
       "      <th>word_count</th>\n",
       "      <th>char_count</th>\n",
       "      <th>stopwords</th>\n",
       "      <th>numerics</th>\n",
       "      <th>upper</th>\n",
       "    </tr>\n",
       "  </thead>\n",
       "  <tbody>\n",
       "    <tr>\n",
       "      <th>0</th>\n",
       "      <td>INFJ</td>\n",
       "      <td>'enfp and intj moments   sportscenter not top ...</td>\n",
       "      <td>I</td>\n",
       "      <td>N</td>\n",
       "      <td>F</td>\n",
       "      <td>J</td>\n",
       "      <td>enfp and intj moments   sportscenter not top t...</td>\n",
       "      <td>603</td>\n",
       "      <td>3160</td>\n",
       "      <td>236</td>\n",
       "      <td>8</td>\n",
       "      <td>17</td>\n",
       "    </tr>\n",
       "    <tr>\n",
       "      <th>1</th>\n",
       "      <td>ENTP</td>\n",
       "      <td>'I'm finding the lack of me in these posts ver...</td>\n",
       "      <td>E</td>\n",
       "      <td>N</td>\n",
       "      <td>T</td>\n",
       "      <td>P</td>\n",
       "      <td>Im finding the lack of me in these posts very ...</td>\n",
       "      <td>1234</td>\n",
       "      <td>6063</td>\n",
       "      <td>474</td>\n",
       "      <td>3</td>\n",
       "      <td>91</td>\n",
       "    </tr>\n",
       "    <tr>\n",
       "      <th>2</th>\n",
       "      <td>INTP</td>\n",
       "      <td>'Good one  _____   Of course, to which I say I...</td>\n",
       "      <td>I</td>\n",
       "      <td>N</td>\n",
       "      <td>T</td>\n",
       "      <td>P</td>\n",
       "      <td>Good one     Of course to which I say I know t...</td>\n",
       "      <td>914</td>\n",
       "      <td>4769</td>\n",
       "      <td>328</td>\n",
       "      <td>17</td>\n",
       "      <td>37</td>\n",
       "    </tr>\n",
       "    <tr>\n",
       "      <th>3</th>\n",
       "      <td>INTJ</td>\n",
       "      <td>'Dear INTP,   I enjoyed our conversation the o...</td>\n",
       "      <td>I</td>\n",
       "      <td>N</td>\n",
       "      <td>T</td>\n",
       "      <td>J</td>\n",
       "      <td>Dear INTP   I enjoyed our conversation the oth...</td>\n",
       "      <td>1148</td>\n",
       "      <td>5791</td>\n",
       "      <td>454</td>\n",
       "      <td>13</td>\n",
       "      <td>69</td>\n",
       "    </tr>\n",
       "    <tr>\n",
       "      <th>4</th>\n",
       "      <td>ENTJ</td>\n",
       "      <td>'You're fired. That's another silly misconcept...</td>\n",
       "      <td>E</td>\n",
       "      <td>N</td>\n",
       "      <td>T</td>\n",
       "      <td>J</td>\n",
       "      <td>Youre fired Thats another silly misconception ...</td>\n",
       "      <td>1030</td>\n",
       "      <td>5394</td>\n",
       "      <td>423</td>\n",
       "      <td>2</td>\n",
       "      <td>51</td>\n",
       "    </tr>\n",
       "  </tbody>\n",
       "</table>\n",
       "</div>"
      ],
      "text/plain": [
       "   type                                              posts EorI NorS TorF  \\\n",
       "0  INFJ  'enfp and intj moments   sportscenter not top ...    I    N    F   \n",
       "1  ENTP  'I'm finding the lack of me in these posts ver...    E    N    T   \n",
       "2  INTP  'Good one  _____   Of course, to which I say I...    I    N    T   \n",
       "3  INTJ  'Dear INTP,   I enjoyed our conversation the o...    I    N    T   \n",
       "4  ENTJ  'You're fired. That's another silly misconcept...    E    N    T   \n",
       "\n",
       "  JorP                                            post_np  word_count  \\\n",
       "0    J  enfp and intj moments   sportscenter not top t...         603   \n",
       "1    P  Im finding the lack of me in these posts very ...        1234   \n",
       "2    P  Good one     Of course to which I say I know t...         914   \n",
       "3    J  Dear INTP   I enjoyed our conversation the oth...        1148   \n",
       "4    J  Youre fired Thats another silly misconception ...        1030   \n",
       "\n",
       "   char_count  stopwords  numerics  upper  \n",
       "0        3160        236         8     17  \n",
       "1        6063        474         3     91  \n",
       "2        4769        328        17     37  \n",
       "3        5791        454        13     69  \n",
       "4        5394        423         2     51  "
      ]
     },
     "execution_count": 22,
     "metadata": {},
     "output_type": "execute_result"
    }
   ],
   "source": [
    "mbti['upper'] = mbti['post_np'].apply(lambda x: len([x for x in x.split() if x.isupper()]))\n",
    "mbti.head()"
   ]
  },
  {
   "cell_type": "markdown",
   "metadata": {},
   "source": [
    "### Basic Processing"
   ]
  },
  {
   "cell_type": "markdown",
   "metadata": {},
   "source": [
    "#### 1. Convert to lower Case"
   ]
  },
  {
   "cell_type": "code",
   "execution_count": 26,
   "metadata": {},
   "outputs": [],
   "source": [
    "mbti_clean = mbti.copy() # DF to be cleaned\n",
    "mbti_clean.drop(columns=['posts','post_np'],inplace=True)\n",
    "mbti_clean['posts']= mbti['post_np'].apply(lambda x: \" \".join(x.lower() for x in x.split()))"
   ]
  },
  {
   "cell_type": "markdown",
   "metadata": {},
   "source": [
    "#### 2. Remove stop words"
   ]
  },
  {
   "cell_type": "code",
   "execution_count": 27,
   "metadata": {},
   "outputs": [
    {
     "data": {
      "text/html": [
       "<div>\n",
       "<style scoped>\n",
       "    .dataframe tbody tr th:only-of-type {\n",
       "        vertical-align: middle;\n",
       "    }\n",
       "\n",
       "    .dataframe tbody tr th {\n",
       "        vertical-align: top;\n",
       "    }\n",
       "\n",
       "    .dataframe thead th {\n",
       "        text-align: right;\n",
       "    }\n",
       "</style>\n",
       "<table border=\"1\" class=\"dataframe\">\n",
       "  <thead>\n",
       "    <tr style=\"text-align: right;\">\n",
       "      <th></th>\n",
       "      <th>type</th>\n",
       "      <th>EorI</th>\n",
       "      <th>NorS</th>\n",
       "      <th>TorF</th>\n",
       "      <th>JorP</th>\n",
       "      <th>word_count</th>\n",
       "      <th>char_count</th>\n",
       "      <th>stopwords</th>\n",
       "      <th>numerics</th>\n",
       "      <th>upper</th>\n",
       "      <th>posts</th>\n",
       "    </tr>\n",
       "  </thead>\n",
       "  <tbody>\n",
       "    <tr>\n",
       "      <th>0</th>\n",
       "      <td>INFJ</td>\n",
       "      <td>I</td>\n",
       "      <td>N</td>\n",
       "      <td>F</td>\n",
       "      <td>J</td>\n",
       "      <td>603</td>\n",
       "      <td>3160</td>\n",
       "      <td>236</td>\n",
       "      <td>8</td>\n",
       "      <td>17</td>\n",
       "      <td>enfp intj moments sportscenter top ten plays p...</td>\n",
       "    </tr>\n",
       "    <tr>\n",
       "      <th>1</th>\n",
       "      <td>ENTP</td>\n",
       "      <td>E</td>\n",
       "      <td>N</td>\n",
       "      <td>T</td>\n",
       "      <td>P</td>\n",
       "      <td>1234</td>\n",
       "      <td>6063</td>\n",
       "      <td>474</td>\n",
       "      <td>3</td>\n",
       "      <td>91</td>\n",
       "      <td>Im finding lack posts alarming Sex boring posi...</td>\n",
       "    </tr>\n",
       "    <tr>\n",
       "      <th>2</th>\n",
       "      <td>INTP</td>\n",
       "      <td>I</td>\n",
       "      <td>N</td>\n",
       "      <td>T</td>\n",
       "      <td>P</td>\n",
       "      <td>914</td>\n",
       "      <td>4769</td>\n",
       "      <td>328</td>\n",
       "      <td>17</td>\n",
       "      <td>37</td>\n",
       "      <td>Good one Of course I say I know thats blessing...</td>\n",
       "    </tr>\n",
       "    <tr>\n",
       "      <th>3</th>\n",
       "      <td>INTJ</td>\n",
       "      <td>I</td>\n",
       "      <td>N</td>\n",
       "      <td>T</td>\n",
       "      <td>J</td>\n",
       "      <td>1148</td>\n",
       "      <td>5791</td>\n",
       "      <td>454</td>\n",
       "      <td>13</td>\n",
       "      <td>69</td>\n",
       "      <td>Dear INTP I enjoyed conversation day Esoteric ...</td>\n",
       "    </tr>\n",
       "    <tr>\n",
       "      <th>4</th>\n",
       "      <td>ENTJ</td>\n",
       "      <td>E</td>\n",
       "      <td>N</td>\n",
       "      <td>T</td>\n",
       "      <td>J</td>\n",
       "      <td>1030</td>\n",
       "      <td>5394</td>\n",
       "      <td>423</td>\n",
       "      <td>2</td>\n",
       "      <td>51</td>\n",
       "      <td>Youre fired Thats another silly misconception ...</td>\n",
       "    </tr>\n",
       "  </tbody>\n",
       "</table>\n",
       "</div>"
      ],
      "text/plain": [
       "   type EorI NorS TorF JorP  word_count  char_count  stopwords  numerics  \\\n",
       "0  INFJ    I    N    F    J         603        3160        236         8   \n",
       "1  ENTP    E    N    T    P        1234        6063        474         3   \n",
       "2  INTP    I    N    T    P         914        4769        328        17   \n",
       "3  INTJ    I    N    T    J        1148        5791        454        13   \n",
       "4  ENTJ    E    N    T    J        1030        5394        423         2   \n",
       "\n",
       "   upper                                              posts  \n",
       "0     17  enfp intj moments sportscenter top ten plays p...  \n",
       "1     91  Im finding lack posts alarming Sex boring posi...  \n",
       "2     37  Good one Of course I say I know thats blessing...  \n",
       "3     69  Dear INTP I enjoyed conversation day Esoteric ...  \n",
       "4     51  Youre fired Thats another silly misconception ...  "
      ]
     },
     "execution_count": 27,
     "metadata": {},
     "output_type": "execute_result"
    }
   ],
   "source": [
    "stop = stopwords.words('english')\n",
    "mbti_clean['posts'] = mbti['post_np'].apply(lambda x: \" \".join(x for x in x.split() if x not in stop))\n",
    "mbti_clean.head()"
   ]
  },
  {
   "cell_type": "markdown",
   "metadata": {},
   "source": [
    "#### *back to FE: Avg Length of words"
   ]
  },
  {
   "cell_type": "code",
   "execution_count": 28,
   "metadata": {},
   "outputs": [
    {
     "data": {
      "text/html": [
       "<div>\n",
       "<style scoped>\n",
       "    .dataframe tbody tr th:only-of-type {\n",
       "        vertical-align: middle;\n",
       "    }\n",
       "\n",
       "    .dataframe tbody tr th {\n",
       "        vertical-align: top;\n",
       "    }\n",
       "\n",
       "    .dataframe thead th {\n",
       "        text-align: right;\n",
       "    }\n",
       "</style>\n",
       "<table border=\"1\" class=\"dataframe\">\n",
       "  <thead>\n",
       "    <tr style=\"text-align: right;\">\n",
       "      <th></th>\n",
       "      <th>type</th>\n",
       "      <th>EorI</th>\n",
       "      <th>NorS</th>\n",
       "      <th>TorF</th>\n",
       "      <th>JorP</th>\n",
       "      <th>word_count</th>\n",
       "      <th>char_count</th>\n",
       "      <th>stopwords</th>\n",
       "      <th>numerics</th>\n",
       "      <th>upper</th>\n",
       "      <th>posts</th>\n",
       "      <th>avg_word</th>\n",
       "    </tr>\n",
       "  </thead>\n",
       "  <tbody>\n",
       "    <tr>\n",
       "      <th>0</th>\n",
       "      <td>INFJ</td>\n",
       "      <td>I</td>\n",
       "      <td>N</td>\n",
       "      <td>F</td>\n",
       "      <td>J</td>\n",
       "      <td>603</td>\n",
       "      <td>3160</td>\n",
       "      <td>236</td>\n",
       "      <td>8</td>\n",
       "      <td>17</td>\n",
       "      <td>enfp intj moments sportscenter top ten plays p...</td>\n",
       "      <td>5.454810</td>\n",
       "    </tr>\n",
       "    <tr>\n",
       "      <th>1</th>\n",
       "      <td>ENTP</td>\n",
       "      <td>E</td>\n",
       "      <td>N</td>\n",
       "      <td>T</td>\n",
       "      <td>P</td>\n",
       "      <td>1234</td>\n",
       "      <td>6063</td>\n",
       "      <td>474</td>\n",
       "      <td>3</td>\n",
       "      <td>91</td>\n",
       "      <td>Im finding lack posts alarming Sex boring posi...</td>\n",
       "      <td>4.761708</td>\n",
       "    </tr>\n",
       "    <tr>\n",
       "      <th>2</th>\n",
       "      <td>INTP</td>\n",
       "      <td>I</td>\n",
       "      <td>N</td>\n",
       "      <td>T</td>\n",
       "      <td>P</td>\n",
       "      <td>914</td>\n",
       "      <td>4769</td>\n",
       "      <td>328</td>\n",
       "      <td>17</td>\n",
       "      <td>37</td>\n",
       "      <td>Good one Of course I say I know thats blessing...</td>\n",
       "      <td>5.363806</td>\n",
       "    </tr>\n",
       "    <tr>\n",
       "      <th>3</th>\n",
       "      <td>INTJ</td>\n",
       "      <td>I</td>\n",
       "      <td>N</td>\n",
       "      <td>T</td>\n",
       "      <td>J</td>\n",
       "      <td>1148</td>\n",
       "      <td>5791</td>\n",
       "      <td>454</td>\n",
       "      <td>13</td>\n",
       "      <td>69</td>\n",
       "      <td>Dear INTP I enjoyed conversation day Esoteric ...</td>\n",
       "      <td>5.079268</td>\n",
       "    </tr>\n",
       "    <tr>\n",
       "      <th>4</th>\n",
       "      <td>ENTJ</td>\n",
       "      <td>E</td>\n",
       "      <td>N</td>\n",
       "      <td>T</td>\n",
       "      <td>J</td>\n",
       "      <td>1030</td>\n",
       "      <td>5394</td>\n",
       "      <td>423</td>\n",
       "      <td>2</td>\n",
       "      <td>51</td>\n",
       "      <td>Youre fired Thats another silly misconception ...</td>\n",
       "      <td>5.332192</td>\n",
       "    </tr>\n",
       "  </tbody>\n",
       "</table>\n",
       "</div>"
      ],
      "text/plain": [
       "   type EorI NorS TorF JorP  word_count  char_count  stopwords  numerics  \\\n",
       "0  INFJ    I    N    F    J         603        3160        236         8   \n",
       "1  ENTP    E    N    T    P        1234        6063        474         3   \n",
       "2  INTP    I    N    T    P         914        4769        328        17   \n",
       "3  INTJ    I    N    T    J        1148        5791        454        13   \n",
       "4  ENTJ    E    N    T    J        1030        5394        423         2   \n",
       "\n",
       "   upper                                              posts  avg_word  \n",
       "0     17  enfp intj moments sportscenter top ten plays p...  5.454810  \n",
       "1     91  Im finding lack posts alarming Sex boring posi...  4.761708  \n",
       "2     37  Good one Of course I say I know thats blessing...  5.363806  \n",
       "3     69  Dear INTP I enjoyed conversation day Esoteric ...  5.079268  \n",
       "4     51  Youre fired Thats another silly misconception ...  5.332192  "
      ]
     },
     "execution_count": 28,
     "metadata": {},
     "output_type": "execute_result"
    }
   ],
   "source": [
    "def avg_word(sentence):\n",
    "    words = sentence.split()\n",
    "    return (sum(len(word) for word in words)/len(words))\n",
    "\n",
    "mbti_clean['avg_word'] = mbti_clean['posts'].apply(lambda x: avg_word(x))\n",
    "mbti_clean.head()"
   ]
  },
  {
   "cell_type": "markdown",
   "metadata": {},
   "source": [
    "#### 3. Remove common words"
   ]
  },
  {
   "cell_type": "code",
   "execution_count": 29,
   "metadata": {},
   "outputs": [],
   "source": [
    "# common words means their presence will not of any use in classification of our text data.\n",
    "freq = pd.Series(' '.join(mbti_clean['posts']).split()).value_counts()[:10]"
   ]
  },
  {
   "cell_type": "code",
   "execution_count": 30,
   "metadata": {},
   "outputs": [],
   "source": [
    "freq = list(freq.index)\n",
    "mbti_clean['posts'] = mbti_clean['posts'].apply(lambda x: \" \".join(x for x in x.split() if x not in freq))\n",
    "# mbti_clean['posts'].head()"
   ]
  },
  {
   "cell_type": "markdown",
   "metadata": {},
   "source": [
    "#### 4. Remove rare words"
   ]
  },
  {
   "cell_type": "code",
   "execution_count": 31,
   "metadata": {},
   "outputs": [],
   "source": [
    "# rare words means because they’re so rare, the association between them and other words is dominated by noise. \n",
    "freq_l = pd.Series(' '.join(mbti_clean['posts']).split()).value_counts()[-10:]\n",
    "freq_l = list(freq_l.index)\n",
    "mbti_clean['posts'] = mbti_clean['posts'].apply(lambda x: \" \".join(x for x in x.split() if x not in freq_l))"
   ]
  },
  {
   "cell_type": "code",
   "execution_count": 32,
   "metadata": {},
   "outputs": [],
   "source": [
    "#### 5. Correct spelling"
   ]
  },
  {
   "cell_type": "code",
   "execution_count": 33,
   "metadata": {},
   "outputs": [
    {
     "data": {
      "text/plain": [
       "0    end into moments sportscenter top ten plays pr...\n",
       "1    finding lack posts alarming Ex boring position...\n",
       "2    Good Of course say that blessing curse Does ab...\n",
       "3    Dear INTP enjoyed conversation day Esoteric ga...\n",
       "4    More fired Hats another silly misconception Th...\n",
       "Name: posts, dtype: object"
      ]
     },
     "execution_count": 33,
     "metadata": {},
     "output_type": "execute_result"
    }
   ],
   "source": [
    "# from textblob import TextBlob\n",
    "mbti_clean['posts'][:5].apply(lambda x: str(TextBlob(x).correct()))"
   ]
  },
  {
   "cell_type": "code",
   "execution_count": null,
   "metadata": {},
   "outputs": [],
   "source": []
  },
  {
   "cell_type": "code",
   "execution_count": null,
   "metadata": {},
   "outputs": [],
   "source": [
    "# b/c: because: need to convert b/c and other abbreviations to words\n",
    "# why there is many many Dear ENFP, Dear ENFJ... in the post"
   ]
  }
 ],
 "metadata": {
  "kernelspec": {
   "display_name": "Python 3",
   "language": "python",
   "name": "python3"
  },
  "language_info": {
   "codemirror_mode": {
    "name": "ipython",
    "version": 3
   },
   "file_extension": ".py",
   "mimetype": "text/x-python",
   "name": "python",
   "nbconvert_exporter": "python",
   "pygments_lexer": "ipython3",
   "version": "3.6.7"
  }
 },
 "nbformat": 4,
 "nbformat_minor": 2
}
