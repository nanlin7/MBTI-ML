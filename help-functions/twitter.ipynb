{
 "cells": [
  {
   "cell_type": "code",
   "execution_count": 66,
   "metadata": {},
   "outputs": [],
   "source": [
    "import tweepy\n",
    "from tweepy.auth import OAuthHandler"
   ]
  },
  {
   "cell_type": "code",
   "execution_count": 5,
   "metadata": {},
   "outputs": [],
   "source": [
    "def loadkeys(filename):\n",
    "    \"\"\"\"\n",
    "    load keys/tokens from CSV file with form\n",
    "    consumer_key, consumer_secret, access_token, access_token_secret\n",
    "    \"\"\"\n",
    "    with open(filename) as f:\n",
    "        items = f.readline().strip().split(', ')\n",
    "        return items\n"
   ]
  },
  {
   "cell_type": "code",
   "execution_count": 6,
   "metadata": {},
   "outputs": [],
   "source": [
    "consumer_key, consumer_secret, \\\n",
    "access_token, access_token_secret \\\n",
    "    = loadkeys(\"/home/tomo/Dropbox/licenses/twitter.txt\")\n"
   ]
  },
  {
   "cell_type": "code",
   "execution_count": 7,
   "metadata": {},
   "outputs": [],
   "source": [
    "auth = OAuthHandler(consumer_key, consumer_secret)\n",
    "auth.set_access_token(access_token, access_token_secret)\n",
    "\n",
    "api = tweepy.API(auth)\n"
   ]
  },
  {
   "cell_type": "code",
   "execution_count": 76,
   "metadata": {},
   "outputs": [],
   "source": [
    "celeb_twitter_mbti =  [{'name': 'Donald Trump', 'twitter': \"realdonaldtrump\", 'type': 'ESTP'},\n",
    "                       {'name': \"Barack Obama\", 'twitter': \"barackobama\", 'type': 'ENFJ'},\n",
    "                       {'name': \"Kanye West\", 'twitter': \"KanyeWest\", 'type': \"ISFP\"},\n",
    "                       {'name': 'Arnold Schwarzenegger', 'twitter': 'Schwarzenegger', 'type': 'INTJ'},\n",
    "                       {'name': 'Justin Bieber', 'twitter': 'justinbieber', 'type': 'ESFP'},\n",
    "                       {'name': \"Brian Spiering\", 'twitter': 'BrianSpiering', 'type': \"INTJ\"}\n",
    "                      ]"
   ]
  },
  {
   "cell_type": "code",
   "execution_count": 79,
   "metadata": {},
   "outputs": [
    {
     "name": "stdout",
     "output_type": "stream",
     "text": [
      "176\n",
      "175\n",
      "100\n",
      "151\n",
      "143\n",
      "161\n"
     ]
    }
   ],
   "source": [
    "import pandas as pd\n",
    "\n",
    "df = pd.DataFrame(columns=['name', 'type', 'posts'])\n",
    "for person in celeb_twitter_mbti:\n",
    "    public_tweets = api.user_timeline(person['twitter'], count = 400)\n",
    "    tweets = []\n",
    "    for tweet in public_tweets:\n",
    "        if not tweet.text.startswith(\"RT @\") and not tweet.retweeted:\n",
    "            tweets.append(tweet.text) \n",
    "    print(len(tweets))\n",
    "    tweets_flat = \"|||\".join(tweets[:50])\n",
    "    df = df.append({'name': person['name'], 'type': person['type'], 'posts': tweets_flat},\n",
    "                  ignore_index=True)\n",
    "\n"
   ]
  },
  {
   "cell_type": "code",
   "execution_count": 81,
   "metadata": {},
   "outputs": [],
   "source": [
    "df.to_csv(\"data/celeb_twitter_mbti.csv\", index=False)"
   ]
  }
 ],
 "metadata": {
  "kernelspec": {
   "display_name": "Python 3",
   "language": "python",
   "name": "python3"
  },
  "language_info": {
   "codemirror_mode": {
    "name": "ipython",
    "version": 3
   },
   "file_extension": ".py",
   "mimetype": "text/x-python",
   "name": "python",
   "nbconvert_exporter": "python",
   "pygments_lexer": "ipython3",
   "version": "3.7.0"
  }
 },
 "nbformat": 4,
 "nbformat_minor": 2
}
