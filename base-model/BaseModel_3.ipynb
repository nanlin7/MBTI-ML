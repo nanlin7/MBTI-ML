{
 "cells": [
  {
   "cell_type": "markdown",
   "metadata": {},
   "source": [
    "# MBTI Project - First Model\n",
    "\n",
    "By Nan Lin"
   ]
  },
  {
   "cell_type": "markdown",
   "metadata": {},
   "source": [
    "* added a folder named firstModel and chaged data dir of every notebook from data/..csv to ../data/..csv\n",
    "-  EDA: \n",
    "    What we can tell from the violinplot? Should we remove these two plots from our EDA part?\n",
    "    Similarly, from word cloud, it seems all types have similar dominant words\n",
    "    Setiment Score distribution is highly skewed? Should we just remove this feature, or any other ways to normalize this feature\n",
    "\n",
    "- Featuring Engineering:\n",
    "    - Count Vectors as featuress or TF-IDF Vectors as features(Word-level TFIDF, N-gram Level TFIDF, Character Level TFIDF?)\n",
    "    - Text, NLP based features(word count, upper case count, number count, etc)\n",
    "    - Topic Modeling? seems commonly used in NLP related projects. reference: https://www.analyticsvidhya.com/blog/2016/08/beginners-guide-to-topic-modeling-in-python/\n",
    "* I vs E, N vs S are highly imbalanced, which will affect the accuracy. Do we need to apply some techiniques mentioned here?\n",
    "reference: https://elitedatascience.com/imbalanced-classes\n",
    "\n",
    "- Modeling:\n",
    "* due to limited time, just set up function with vectorizer parameter and built NB classifier for three different vectorizers(Count, Word level TFIDF, N-gram TFIDF)\n",
    "    - Naive Bayes Classifer\n",
    "    - Linear Classifier\n",
    "    - SVM\n",
    "    - Baggings\n",
    "    - Boosting Models\n",
    "* keep at least one well tuned model of each classifier for further comparison and analysis\n",
    "\n",
    "- Performance Metrics\n",
    "    - Accuracy, F1-score, ROC-AUC which one should we prioritize for our project? \n",
    "    -  From the production perspective, we can add matrics like computation cost, time complexity"
   ]
  },
  {
   "cell_type": "code",
   "execution_count": 1,
   "metadata": {},
   "outputs": [],
   "source": [
    "reset -fs"
   ]
  },
  {
   "cell_type": "code",
   "execution_count": 4,
   "metadata": {},
   "outputs": [],
   "source": [
    "from nltk.stem.porter import *\n",
    "from nltk.corpus import stopwords\n",
    "from nltk.stem import PorterStemmer, WordNetLemmatizer\n",
    "from nltk import word_tokenize\n",
    "from sklearn.feature_extraction import stop_words\n",
    "from sklearn.feature_extraction.text import CountVectorizer,TfidfVectorizer\n",
    "# pip install vaderSentiment\n",
    "from vaderSentiment.vaderSentiment import SentimentIntensityAnalyzer\n",
    "# pip install wordcloud\n",
    "from wordcloud import WordCloud\n",
    "import pandas as pd\n",
    "import matplotlib.pyplot as plt\n",
    "import seaborn as sns\n",
    "import string \n",
    "import re\n",
    "from collections import Counter\n",
    "import numpy as np\n",
    "plt.style.use('fivethirtyeight')"
   ]
  },
  {
   "cell_type": "code",
   "execution_count": 6,
   "metadata": {},
   "outputs": [],
   "source": [
    "mbti = pd.read_csv('../data/mbti_1.csv') "
   ]
  },
  {
   "cell_type": "code",
   "execution_count": 9,
   "metadata": {},
   "outputs": [],
   "source": [
    "# Types per category\n",
    "# analyze types by sub-category may be easier\n",
    "mbti['EorI']= mbti['type'].apply(lambda x:x[0])\n",
    "mbti['NorS']= mbti['type'].apply(lambda x:x[1])\n",
    "mbti['TorF']= mbti['type'].apply(lambda x:x[2])\n",
    "mbti['JorP']= mbti['type'].apply(lambda x:x[3])"
   ]
  },
  {
   "cell_type": "code",
   "execution_count": 10,
   "metadata": {},
   "outputs": [
    {
     "data": {
      "text/plain": [
       "<matplotlib.legend.Legend at 0x1076204e0>"
      ]
     },
     "execution_count": 10,
     "metadata": {},
     "output_type": "execute_result"
    },
    {
     "data": {
      "image/png": "[encoded data removed]",
      "text/plain": [
       "<Figure size 432x288 with 1 Axes>"
      ]
     },
     "metadata": {
      "needs_background": "light"
     },
     "output_type": "display_data"
    }
   ],
   "source": [
    "ax = sns.countplot(x='variable',hue='value',data=pd.melt(mbti.iloc[:,2:]),palette=\"Set2\")\n",
    "ax.set_xticklabels([\"introverted vs.extroverted\", \"intuition vs. sensing\", \n",
    "                    \"feeling vs.thinking \", \"judging vs. perceiving\", \n",
    "                    ], rotation=10, fontsize=11)\n",
    "ax.legend(loc='center left', bbox_to_anchor=(1, 0.5))"
   ]
  },
  {
   "cell_type": "markdown",
   "metadata": {},
   "source": [
    "Imbalanced class: I vs E, N vs S. Some advanced techniques like resampling methods may be needed later to handle imbalanced classes."
   ]
  },
  {
   "cell_type": "markdown",
   "metadata": {},
   "source": [
    "#### Their last 50 posts:\n",
    "Focus on some statistics(mean,variance) of posts"
   ]
  },
  {
   "cell_type": "markdown",
   "metadata": {},
   "source": [
    "words they averagely used in per comment (including everything rather than spaces)"
   ]
  },
  {
   "cell_type": "code",
   "execution_count": 11,
   "metadata": {},
   "outputs": [],
   "source": [
    "mbti['avg_comment_length'] = mbti['posts'].apply(lambda x: len(x.split())/50)\n",
    "mbti['comment_length_var'] = mbti['posts'].apply(lambda x: np.var([len(sentence.split()) for sentence in x.split('|||')]))"
   ]
  },
  {
   "cell_type": "code",
   "execution_count": 10,
   "metadata": {},
   "outputs": [
    {
     "data": {
      "text/html": [
       "<div>\n",
       "<style scoped>\n",
       "    .dataframe tbody tr th:only-of-type {\n",
       "        vertical-align: middle;\n",
       "    }\n",
       "\n",
       "    .dataframe tbody tr th {\n",
       "        vertical-align: top;\n",
       "    }\n",
       "\n",
       "    .dataframe thead th {\n",
       "        text-align: right;\n",
       "    }\n",
       "</style>\n",
       "<table border=\"1\" class=\"dataframe\">\n",
       "  <thead>\n",
       "    <tr style=\"text-align: right;\">\n",
       "      <th></th>\n",
       "      <th>type</th>\n",
       "      <th>posts</th>\n",
       "      <th>EorI</th>\n",
       "      <th>NorS</th>\n",
       "      <th>TorF</th>\n",
       "      <th>JorP</th>\n",
       "      <th>avg_comment_length</th>\n",
       "      <th>comment_length_var</th>\n",
       "    </tr>\n",
       "  </thead>\n",
       "  <tbody>\n",
       "    <tr>\n",
       "      <th>0</th>\n",
       "      <td>INFJ</td>\n",
       "      <td>'http://www.youtube.com/watch?v=qsXHcwe3krw|||...</td>\n",
       "      <td>I</td>\n",
       "      <td>N</td>\n",
       "      <td>F</td>\n",
       "      <td>J</td>\n",
       "      <td>11.12</td>\n",
       "      <td>135.2900</td>\n",
       "    </tr>\n",
       "    <tr>\n",
       "      <th>1</th>\n",
       "      <td>ENTP</td>\n",
       "      <td>'I'm finding the lack of me in these posts ver...</td>\n",
       "      <td>E</td>\n",
       "      <td>N</td>\n",
       "      <td>T</td>\n",
       "      <td>P</td>\n",
       "      <td>23.40</td>\n",
       "      <td>187.4756</td>\n",
       "    </tr>\n",
       "    <tr>\n",
       "      <th>2</th>\n",
       "      <td>INTP</td>\n",
       "      <td>'Good one  _____   https://www.youtube.com/wat...</td>\n",
       "      <td>I</td>\n",
       "      <td>N</td>\n",
       "      <td>T</td>\n",
       "      <td>P</td>\n",
       "      <td>16.72</td>\n",
       "      <td>180.6900</td>\n",
       "    </tr>\n",
       "    <tr>\n",
       "      <th>3</th>\n",
       "      <td>INTJ</td>\n",
       "      <td>'Dear INTP,   I enjoyed our conversation the o...</td>\n",
       "      <td>I</td>\n",
       "      <td>N</td>\n",
       "      <td>T</td>\n",
       "      <td>J</td>\n",
       "      <td>21.28</td>\n",
       "      <td>181.8324</td>\n",
       "    </tr>\n",
       "    <tr>\n",
       "      <th>4</th>\n",
       "      <td>ENTJ</td>\n",
       "      <td>'You're fired.|||That's another silly misconce...</td>\n",
       "      <td>E</td>\n",
       "      <td>N</td>\n",
       "      <td>T</td>\n",
       "      <td>J</td>\n",
       "      <td>19.34</td>\n",
       "      <td>196.4576</td>\n",
       "    </tr>\n",
       "  </tbody>\n",
       "</table>\n",
       "</div>"
      ],
      "text/plain": [
       "   type                                              posts EorI NorS TorF  \\\n",
       "0  INFJ  'http://www.youtube.com/watch?v=qsXHcwe3krw|||...    I    N    F   \n",
       "1  ENTP  'I'm finding the lack of me in these posts ver...    E    N    T   \n",
       "2  INTP  'Good one  _____   https://www.youtube.com/wat...    I    N    T   \n",
       "3  INTJ  'Dear INTP,   I enjoyed our conversation the o...    I    N    T   \n",
       "4  ENTJ  'You're fired.|||That's another silly misconce...    E    N    T   \n",
       "\n",
       "  JorP  avg_comment_length  comment_length_var  \n",
       "0    J               11.12            135.2900  \n",
       "1    P               23.40            187.4756  \n",
       "2    P               16.72            180.6900  \n",
       "3    J               21.28            181.8324  \n",
       "4    J               19.34            196.4576  "
      ]
     },
     "execution_count": 10,
     "metadata": {},
     "output_type": "execute_result"
    }
   ],
   "source": [
    "mbti.head()"
   ]
  },
  {
   "cell_type": "markdown",
   "metadata": {},
   "source": [
    "## Data preprocessing"
   ]
  },
  {
   "cell_type": "markdown",
   "metadata": {},
   "source": [
    "### Define a function for cleaning the posts:\n",
    "- Remove \"|||\" and links and punctuations and MBTI words(As u see in the text, real names user referring to are changed to MBTI type)\n",
    "- Lowercase\n",
    "- Lemmatize word, remove stop words and words less than 3 characters (lemmatizing would be better than stemming but takes more time)"
   ]
  },
  {
   "cell_type": "code",
   "execution_count": 16,
   "metadata": {},
   "outputs": [],
   "source": [
    "# get 16 types of personality list for removing MBTI words in the following function\n",
    "types = list(mbti.iloc[:,0].unique())\n",
    "types = [t.lower() for t in types]"
   ]
  },
  {
   "cell_type": "code",
   "execution_count": 17,
   "metadata": {},
   "outputs": [],
   "source": [
    "def post_preprocess(df):\n",
    "    i = 0\n",
    "    post_list = []\n",
    "    length = len(df)\n",
    "    lemmatiser = WordNetLemmatizer() # or use PorterStemmer(), if want to run faster\n",
    "    print('Processing... Be patient')\n",
    "    \n",
    "    for row in df.iterrows():\n",
    "        # Progress bar\n",
    "        i+=1\n",
    "        if (i % 500 == 0 or i == length):\n",
    "            print(f\"Progress bar：{round(i/length*100)}%\")\n",
    "        # clean the posts\n",
    "        # extract the post\n",
    "        posts = row[1].posts\n",
    "        # remove ||| \n",
    "        posts = re.sub(r'\\|\\|\\|',' ',posts)\n",
    "        # remove all links and transform to lower case\n",
    "        posts = re.sub(r'http[\\S]*', '', posts).lower()\n",
    "        ### ??? ###\n",
    "        posts = re.sub(\"[^a-z\\s]\", ' ', posts)\n",
    "        # stemmer? remove english words\n",
    "        posts = ' '.join([lemmatiser.lemmatize(w) for w in posts.split(' ') if w not in stopwords.words('english')])\n",
    "        # remove mentioned personality types inside the post\n",
    "        for t in types:\n",
    "            posts = posts.replace(t,'')\n",
    "        # post container: list\n",
    "        post_list.append(posts)\n",
    "        \n",
    "    return np.array(post_list)      "
   ]
  },
  {
   "cell_type": "code",
   "execution_count": 82,
   "metadata": {},
   "outputs": [],
   "source": [
    "# Here I takes FOREVER to run it T_T\n",
    "# import nltk\n",
    "# nltk.download('wordnet')\n",
    "# processed_post = post_preprocess(mbti)"
   ]
  },
  {
   "cell_type": "code",
   "execution_count": 30,
   "metadata": {},
   "outputs": [
    {
     "data": {
      "text/html": [
       "<div>\n",
       "<style scoped>\n",
       "    .dataframe tbody tr th:only-of-type {\n",
       "        vertical-align: middle;\n",
       "    }\n",
       "\n",
       "    .dataframe tbody tr th {\n",
       "        vertical-align: top;\n",
       "    }\n",
       "\n",
       "    .dataframe thead th {\n",
       "        text-align: right;\n",
       "    }\n",
       "</style>\n",
       "<table border=\"1\" class=\"dataframe\">\n",
       "  <thead>\n",
       "    <tr style=\"text-align: right;\">\n",
       "      <th></th>\n",
       "      <th>type</th>\n",
       "      <th>posts</th>\n",
       "      <th>processed_posts</th>\n",
       "    </tr>\n",
       "  </thead>\n",
       "  <tbody>\n",
       "    <tr>\n",
       "      <th>0</th>\n",
       "      <td>INFJ</td>\n",
       "      <td>'http://www.youtube.com/watch?v=qsXHcwe3krw|||...</td>\n",
       "      <td>moment    sportscenter top ten play    pr...</td>\n",
       "    </tr>\n",
       "    <tr>\n",
       "      <th>1</th>\n",
       "      <td>ENTP</td>\n",
       "      <td>'I'm finding the lack of me in these posts ver...</td>\n",
       "      <td>finding lack post alarming  sex boring positi...</td>\n",
       "    </tr>\n",
       "    <tr>\n",
       "      <th>2</th>\n",
       "      <td>INTP</td>\n",
       "      <td>'Good one  _____   https://www.youtube.com/wat...</td>\n",
       "      <td>good one           course  say know  blessing...</td>\n",
       "    </tr>\n",
       "    <tr>\n",
       "      <th>3</th>\n",
       "      <td>INTJ</td>\n",
       "      <td>'Dear INTP,   I enjoyed our conversation the o...</td>\n",
       "      <td>dear     enjoyed conversation day   esoteric ...</td>\n",
       "    </tr>\n",
       "    <tr>\n",
       "      <th>4</th>\n",
       "      <td>ENTJ</td>\n",
       "      <td>'You're fired.|||That's another silly misconce...</td>\n",
       "      <td>fired  another silly misconception  approachi...</td>\n",
       "    </tr>\n",
       "  </tbody>\n",
       "</table>\n",
       "</div>"
      ],
      "text/plain": [
       "   type                                              posts  \\\n",
       "0  INFJ  'http://www.youtube.com/watch?v=qsXHcwe3krw|||...   \n",
       "1  ENTP  'I'm finding the lack of me in these posts ver...   \n",
       "2  INTP  'Good one  _____   https://www.youtube.com/wat...   \n",
       "3  INTJ  'Dear INTP,   I enjoyed our conversation the o...   \n",
       "4  ENTJ  'You're fired.|||That's another silly misconce...   \n",
       "\n",
       "                                     processed_posts  \n",
       "0       moment    sportscenter top ten play    pr...  \n",
       "1   finding lack post alarming  sex boring positi...  \n",
       "2   good one           course  say know  blessing...  \n",
       "3   dear     enjoyed conversation day   esoteric ...  \n",
       "4   fired  another silly misconception  approachi...  "
      ]
     },
     "execution_count": 30,
     "metadata": {},
     "output_type": "execute_result"
    }
   ],
   "source": [
    "# save time, run this to load the clean post\n",
    "processed_post = pd.read_csv('mbti_preprocessed_1.csv')\n",
    "processed_post.drop('Unnamed: 0',axis=1,inplace=True)\n",
    "processed_post.head()"
   ]
  },
  {
   "cell_type": "markdown",
   "metadata": {},
   "source": [
    "## Modeling from word vectors as features"
   ]
  },
  {
   "cell_type": "code",
   "execution_count": 27,
   "metadata": {},
   "outputs": [],
   "source": [
    "processed_post = pd.read_csv(\"../data/mbti_preprocessed_1.csv\")"
   ]
  },
  {
   "cell_type": "markdown",
   "metadata": {},
   "source": [
    "#### Added target columns to the processed dataset"
   ]
  },
  {
   "cell_type": "code",
   "execution_count": 35,
   "metadata": {},
   "outputs": [
    {
     "data": {
      "text/html": [
       "<div>\n",
       "<style scoped>\n",
       "    .dataframe tbody tr th:only-of-type {\n",
       "        vertical-align: middle;\n",
       "    }\n",
       "\n",
       "    .dataframe tbody tr th {\n",
       "        vertical-align: top;\n",
       "    }\n",
       "\n",
       "    .dataframe thead th {\n",
       "        text-align: right;\n",
       "    }\n",
       "</style>\n",
       "<table border=\"1\" class=\"dataframe\">\n",
       "  <thead>\n",
       "    <tr style=\"text-align: right;\">\n",
       "      <th></th>\n",
       "      <th>Unnamed: 0</th>\n",
       "      <th>type</th>\n",
       "      <th>posts</th>\n",
       "      <th>processed_posts</th>\n",
       "      <th>EorI</th>\n",
       "      <th>NorS</th>\n",
       "      <th>TorF</th>\n",
       "      <th>JorP</th>\n",
       "    </tr>\n",
       "  </thead>\n",
       "  <tbody>\n",
       "    <tr>\n",
       "      <th>0</th>\n",
       "      <td>0</td>\n",
       "      <td>INFJ</td>\n",
       "      <td>'http://www.youtube.com/watch?v=qsXHcwe3krw|||...</td>\n",
       "      <td>moment    sportscenter top ten play    pr...</td>\n",
       "      <td>I</td>\n",
       "      <td>N</td>\n",
       "      <td>F</td>\n",
       "      <td>J</td>\n",
       "    </tr>\n",
       "    <tr>\n",
       "      <th>1</th>\n",
       "      <td>1</td>\n",
       "      <td>ENTP</td>\n",
       "      <td>'I'm finding the lack of me in these posts ver...</td>\n",
       "      <td>finding lack post alarming  sex boring positi...</td>\n",
       "      <td>E</td>\n",
       "      <td>N</td>\n",
       "      <td>T</td>\n",
       "      <td>P</td>\n",
       "    </tr>\n",
       "    <tr>\n",
       "      <th>2</th>\n",
       "      <td>2</td>\n",
       "      <td>INTP</td>\n",
       "      <td>'Good one  _____   https://www.youtube.com/wat...</td>\n",
       "      <td>good one           course  say know  blessing...</td>\n",
       "      <td>I</td>\n",
       "      <td>N</td>\n",
       "      <td>T</td>\n",
       "      <td>P</td>\n",
       "    </tr>\n",
       "  </tbody>\n",
       "</table>\n",
       "</div>"
      ],
      "text/plain": [
       "   Unnamed: 0  type                                              posts  \\\n",
       "0           0  INFJ  'http://www.youtube.com/watch?v=qsXHcwe3krw|||...   \n",
       "1           1  ENTP  'I'm finding the lack of me in these posts ver...   \n",
       "2           2  INTP  'Good one  _____   https://www.youtube.com/wat...   \n",
       "\n",
       "                                     processed_posts EorI NorS TorF JorP  \n",
       "0       moment    sportscenter top ten play    pr...    I    N    F    J  \n",
       "1   finding lack post alarming  sex boring positi...    E    N    T    P  \n",
       "2   good one           course  say know  blessing...    I    N    T    P  "
      ]
     },
     "execution_count": 35,
     "metadata": {},
     "output_type": "execute_result"
    }
   ],
   "source": [
    "processed_post['EorI']= mbti['type'].apply(lambda x:x[0])\n",
    "processed_post['NorS']= mbti['type'].apply(lambda x:x[1])\n",
    "processed_post['TorF']= mbti['type'].apply(lambda x:x[2])\n",
    "processed_post['JorP']= mbti['type'].apply(lambda x:x[3])\n",
    "\n",
    "processed_post.head(3)"
   ]
  },
  {
   "cell_type": "code",
   "execution_count": 36,
   "metadata": {},
   "outputs": [],
   "source": [
    "# saved as processed data with personality breakdown\n",
    "processed_post.to_csv(\"../data/ProceesdBreakdown.csv\",index=False)"
   ]
  },
  {
   "cell_type": "code",
   "execution_count": 37,
   "metadata": {},
   "outputs": [],
   "source": [
    "from sklearn.naive_bayes import MultinomialNB\n",
    "from sklearn.metrics import classification_report, f1_score\n",
    "from sklearn.model_selection import StratifiedKFold, StratifiedShuffleSplit\n",
    "from sklearn.metrics import accuracy_score\n",
    "from sklearn.linear_model import LogisticRegression\n",
    "from numpy import mean\n",
    "import warnings\n",
    "warnings.filterwarnings('ignore')"
   ]
  },
  {
   "cell_type": "code",
   "execution_count": 77,
   "metadata": {},
   "outputs": [],
   "source": [
    "def base_model_vector(model,vectorizer, X, target, nsplits=4):\n",
    "    kf = StratifiedShuffleSplit(n_splits=nsplits, random_state=420)\n",
    "\n",
    "    for col in np.array(target.columns):\n",
    "        print(f\"This is the training for {col}:\")\n",
    "        y = target[col]\n",
    "        all_fscores = []\n",
    "        all_accuracies = []\n",
    "        for train, test in kf.split(X,y):\n",
    "            X_train, X_test, y_train, y_test = X[train], X[test], y[train], y[test]\n",
    "            probs = np.ones((len(y_test), 16))\n",
    "            \n",
    "            # add vectorizer\n",
    "            vectorizer.fit(X)\n",
    "            train_features = vectorizer.transform(X_train)\n",
    "            test_features = vectorizer.transform(X_test)\n",
    "            \n",
    "            model.fit(train_features, y_train)\n",
    "            \n",
    "            preds = model.predict(test_features)\n",
    "            fscore = f1_score(y_test, preds, average='weighted')\n",
    "            all_fscores.append(fscore)\n",
    "            accuracy = accuracy_score(preds, y_test)\n",
    "            all_accuracies.append(accuracy)\n",
    "            vectorizer_name = str(vectorizer).split('(')[0]\n",
    "            model_name = str(model).split('(')[0]\n",
    "            print(f'{model_name} {vectorizer_name} F1-score: {fscore}; Accuracy: {accuracy}')\n",
    "        print(f'Average F1-score: {mean(all_fscores)}; Average Accuracy: {mean(all_accuracies)}')"
   ]
  },
  {
   "cell_type": "markdown",
   "metadata": {},
   "source": [
    "### Naive Bayes on Count Vector"
   ]
  },
  {
   "cell_type": "code",
   "execution_count": 78,
   "metadata": {},
   "outputs": [
    {
     "name": "stdout",
     "output_type": "stream",
     "text": [
      "This is the training for EorI:\n",
      "MultinomialNB CountVectorizer F1-score: 0.7640309123805891; Accuracy: 0.7638248847926268\n",
      "MultinomialNB CountVectorizer F1-score: 0.7348365204194817; Accuracy: 0.738479262672811\n",
      "MultinomialNB CountVectorizer F1-score: 0.7529473648100079; Accuracy: 0.7523041474654378\n",
      "MultinomialNB CountVectorizer F1-score: 0.7733901363174354; Accuracy: 0.7741935483870968\n",
      "Average F1-score: 0.7563012334818784; Average Accuracy: 0.7572004608294931\n",
      "This is the training for NorS:\n",
      "MultinomialNB CountVectorizer F1-score: 0.8474636834064505; Accuracy: 0.8559907834101382\n",
      "MultinomialNB CountVectorizer F1-score: 0.8303957034710504; Accuracy: 0.8341013824884793\n",
      "MultinomialNB CountVectorizer F1-score: 0.8290542023260918; Accuracy: 0.8341013824884793\n",
      "MultinomialNB CountVectorizer F1-score: 0.821210364739576; Accuracy: 0.8271889400921659\n",
      "Average F1-score: 0.8320309884857922; Average Accuracy: 0.8378456221198157\n",
      "This is the training for TorF:\n",
      "MultinomialNB CountVectorizer F1-score: 0.7890619184204275; Accuracy: 0.7891705069124424\n",
      "MultinomialNB CountVectorizer F1-score: 0.7809689147586912; Accuracy: 0.7811059907834101\n",
      "MultinomialNB CountVectorizer F1-score: 0.7841852669810451; Accuracy: 0.7845622119815668\n",
      "MultinomialNB CountVectorizer F1-score: 0.7956097883441555; Accuracy: 0.7960829493087558\n",
      "Average F1-score: 0.7874564721260798; Average Accuracy: 0.7877304147465438\n",
      "This is the training for JorP:\n",
      "MultinomialNB CountVectorizer F1-score: 0.6366622200662948; Accuracy: 0.6382488479262672\n",
      "MultinomialNB CountVectorizer F1-score: 0.6764642699184937; Accuracy: 0.6785714285714286\n",
      "MultinomialNB CountVectorizer F1-score: 0.6547296935500605; Accuracy: 0.6589861751152074\n",
      "MultinomialNB CountVectorizer F1-score: 0.6559629570303195; Accuracy: 0.6566820276497696\n",
      "Average F1-score: 0.6559547851412921; Average Accuracy: 0.6581221198156681\n"
     ]
    }
   ],
   "source": [
    "X = processed_post['processed_posts']\n",
    "target = processed_post.iloc[:,4:8]\n",
    "\n",
    "# Naive Bayes on Count Vector\n",
    "vectorizer1 = CountVectorizer(stop_words='english',analyzer='word',input='content', \n",
    "                                 decode_error='ignore', max_df=0.48,min_df=5,\n",
    "                                 token_pattern=r'\\w{1,}')\n",
    "model1 = MultinomialNB()\n",
    "base_model_vector(model1,vectorizer,X,target)\n"
   ]
  },
  {
   "cell_type": "markdown",
   "metadata": {},
   "source": [
    "### Naive Bayes on TF IDF Vectors"
   ]
  },
  {
   "cell_type": "code",
   "execution_count": 81,
   "metadata": {},
   "outputs": [
    {
     "name": "stdout",
     "output_type": "stream",
     "text": [
      "This is the training for EorI:\n",
      "MultinomialNB TfidfVectorizer F1-score: 0.6693788402457758; Accuracy: 0.7695852534562212\n",
      "MultinomialNB TfidfVectorizer F1-score: 0.672107601711343; Accuracy: 0.7707373271889401\n",
      "MultinomialNB TfidfVectorizer F1-score: 0.6693788402457758; Accuracy: 0.7695852534562212\n",
      "MultinomialNB TfidfVectorizer F1-score: 0.672107601711343; Accuracy: 0.7707373271889401\n",
      "Average F1-score: 0.6707432209785593; Average Accuracy: 0.7701612903225806\n",
      "This is the training for NorS:\n",
      "MultinomialNB TfidfVectorizer F1-score: 0.7977597298900396; Accuracy: 0.8617511520737328\n",
      "MultinomialNB TfidfVectorizer F1-score: 0.7977597298900396; Accuracy: 0.8617511520737328\n",
      "MultinomialNB TfidfVectorizer F1-score: 0.7977597298900396; Accuracy: 0.8617511520737328\n",
      "MultinomialNB TfidfVectorizer F1-score: 0.7977597298900396; Accuracy: 0.8617511520737328\n",
      "Average F1-score: 0.7977597298900396; Average Accuracy: 0.8617511520737328\n",
      "This is the training for TorF:\n",
      "MultinomialNB TfidfVectorizer F1-score: 0.7580816367921227; Accuracy: 0.7626728110599078\n",
      "MultinomialNB TfidfVectorizer F1-score: 0.7356018854481579; Accuracy: 0.7419354838709677\n",
      "MultinomialNB TfidfVectorizer F1-score: 0.7505099440583312; Accuracy: 0.7557603686635944\n",
      "MultinomialNB TfidfVectorizer F1-score: 0.7690069882460907; Accuracy: 0.7753456221198156\n",
      "Average F1-score: 0.7533001136361757; Average Accuracy: 0.7589285714285714\n",
      "This is the training for JorP:\n",
      "MultinomialNB TfidfVectorizer F1-score: 0.4953697105343265; Accuracy: 0.6105990783410138\n",
      "MultinomialNB TfidfVectorizer F1-score: 0.5172729040258469; Accuracy: 0.6232718894009217\n",
      "MultinomialNB TfidfVectorizer F1-score: 0.51328557879938; Accuracy: 0.6244239631336406\n",
      "MultinomialNB TfidfVectorizer F1-score: 0.5158527091619705; Accuracy: 0.6209677419354839\n",
      "Average F1-score: 0.510445225630381; Average Accuracy: 0.619815668202765\n"
     ]
    }
   ],
   "source": [
    "## Due to limited time don't have much time to tune the vectorizer, would iterately update vectoruzer parameters to make better performance\n",
    "\n",
    "vectorizer2 = vectorizer = TfidfVectorizer(max_df=.8, min_df=25)\n",
    "model1 = MultinomialNB()\n",
    "base_model_vector(model1,vectorizer2,X,target)"
   ]
  },
  {
   "cell_type": "markdown",
   "metadata": {},
   "source": [
    "### Naive Bayes on N-gram TF IDF Vectors"
   ]
  },
  {
   "cell_type": "code",
   "execution_count": 83,
   "metadata": {},
   "outputs": [
    {
     "name": "stdout",
     "output_type": "stream",
     "text": [
      "This is the training for EorI:\n",
      "MultinomialNB TfidfVectorizer F1-score: 0.6574788219119454; Accuracy: 0.6394009216589862\n",
      "MultinomialNB TfidfVectorizer F1-score: 0.6503352635621311; Accuracy: 0.6359447004608295\n",
      "MultinomialNB TfidfVectorizer F1-score: 0.6641322428147762; Accuracy: 0.6509216589861752\n",
      "MultinomialNB TfidfVectorizer F1-score: 0.6695189923514896; Accuracy: 0.6543778801843319\n",
      "Average F1-score: 0.6603663301600856; Average Accuracy: 0.6451612903225807\n",
      "This is the training for NorS:\n",
      "MultinomialNB TfidfVectorizer F1-score: 0.7634600614439323; Accuracy: 0.7442396313364056\n",
      "MultinomialNB TfidfVectorizer F1-score: 0.752314539128537; Accuracy: 0.7361751152073732\n",
      "MultinomialNB TfidfVectorizer F1-score: 0.7554300273042629; Accuracy: 0.7373271889400922\n",
      "MultinomialNB TfidfVectorizer F1-score: 0.7739821094844559; Accuracy: 0.7672811059907834\n",
      "Average F1-score: 0.761296684340297; Average Accuracy: 0.7462557603686636\n",
      "This is the training for TorF:\n",
      "MultinomialNB TfidfVectorizer F1-score: 0.5526437473191367; Accuracy: 0.5587557603686636\n",
      "MultinomialNB TfidfVectorizer F1-score: 0.5761325385694249; Accuracy: 0.5806451612903226\n",
      "MultinomialNB TfidfVectorizer F1-score: 0.5549227079550509; Accuracy: 0.5622119815668203\n",
      "MultinomialNB TfidfVectorizer F1-score: 0.587777249048287; Accuracy: 0.5921658986175116\n",
      "Average F1-score: 0.5678690607229748; Average Accuracy: 0.5734447004608295\n",
      "This is the training for JorP:\n",
      "MultinomialNB TfidfVectorizer F1-score: 0.5339781919824127; Accuracy: 0.5368663594470046\n",
      "MultinomialNB TfidfVectorizer F1-score: 0.545618666642894; Accuracy: 0.5460829493087558\n",
      "MultinomialNB TfidfVectorizer F1-score: 0.5862748941772815; Accuracy: 0.5887096774193549\n",
      "MultinomialNB TfidfVectorizer F1-score: 0.5739429762610303; Accuracy: 0.5737327188940092\n",
      "Average F1-score: 0.5599536822659047; Average Accuracy: 0.5613479262672811\n"
     ]
    }
   ],
   "source": [
    "### Naive Bayes on Ngram Level TF IDF Vectors\n",
    "### took much longer than previous two vectorizers\n",
    "vectorizer3 = TfidfVectorizer(max_df=.8, min_df=25,norm=None, ngram_range=(3,3))\n",
    "model1 = MultinomialNB()\n",
    "base_model_vector(model1,vectorizer3,X,target)"
   ]
  }
 ],
 "metadata": {
  "kernelspec": {
   "display_name": "Python 3",
   "language": "python",
   "name": "python3"
  },
  "language_info": {
   "codemirror_mode": {
    "name": "ipython",
    "version": 3
   },
   "file_extension": ".py",
   "mimetype": "text/x-python",
   "name": "python",
   "nbconvert_exporter": "python",
   "pygments_lexer": "ipython3",
   "version": "3.6.6"
  }
 },
 "nbformat": 4,
 "nbformat_minor": 2
}
